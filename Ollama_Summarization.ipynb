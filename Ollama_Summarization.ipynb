{
 "cells": [
  {
   "cell_type": "markdown",
   "id": "581d7128-b90f-4224-a39e-18faa1b92720",
   "metadata": {},
   "source": [
    "# Summarization Using Ollama"
   ]
  },
  {
   "cell_type": "markdown",
   "id": "8f9126fc-6968-4974-a5d6-606d7ca82bb1",
   "metadata": {},
   "source": [
    "Objective: Summarize content from websites using Ollama locally.\n",
    "\n",
    "Step 1: Extract content from the website using python beautiful soap.\n",
    "\n",
    "Step 2: Feed the extracted text into Ollama’s language model.\n",
    "\n",
    "Step 3: Ollama generates a concise summary of the webpage content and display in Markdown format."
   ]
  },
  {
   "cell_type": "markdown",
   "id": "0d4b59cc-0a62-4c23-9ab8-40cd76e4c306",
   "metadata": {},
   "source": [
    "Steps:\n",
    "1. Create a class to extract information from website\n",
    "2. Create system Prompt, User Prompt and a message object that stores these both\n",
    "3. Function to call Ollama API\n",
    "4. Update information back in Markdown format"
   ]
  },
  {
   "cell_type": "code",
   "execution_count": 1,
   "id": "c7acd857-717f-4cbb-a5e1-071863b33f06",
   "metadata": {},
   "outputs": [],
   "source": [
    "import requests\n",
    "from bs4 import BeautifulSoup\n",
    "from IPython.display import Markdown, display"
   ]
  },
  {
   "cell_type": "code",
   "execution_count": 2,
   "id": "db455927-8ab1-4c13-bc14-d76cdc64547b",
   "metadata": {},
   "outputs": [],
   "source": [
    "# Constants\n",
    "\n",
    "OLLAMA_API = \"http://localhost:11434/api/chat\"\n",
    "HEADERS = {\"Content-Type\": \"application/json\"}\n",
    "MODEL = \"llama3.2:1b\""
   ]
  },
  {
   "cell_type": "code",
   "execution_count": 3,
   "id": "6132a0dd-907f-45b8-afc1-4b1a95ffe7d0",
   "metadata": {},
   "outputs": [],
   "source": [
    "# Class that fetches Website information\n",
    "headers = {\n",
    " \"User-Agent\": \"Mozilla/5.0 (Windows NT 10.0; Win64; x64) AppleWebKit/537.36 (KHTML, like Gecko) Chrome/117.0.0.0 Safari/537.36\"\n",
    "}\n",
    "\n",
    "class Website:\n",
    "\n",
    "    def __init__(self, url):\n",
    "        \"\"\"\n",
    "        Create this Website object from the given url using the BeautifulSoup library\n",
    "        \"\"\"\n",
    "        print(\"Initiazling Data Extraction from Website\")\n",
    "        self.url = url\n",
    "        response = requests.get(url, headers=headers)\n",
    "        soup = BeautifulSoup(response.content, 'html.parser')\n",
    "        self.title = soup.title.string if soup.title else \"No title found\"\n",
    "        for irrelevant in soup.body([\"script\", \"style\", \"img\", \"input\"]):\n",
    "            irrelevant.decompose()\n",
    "        self.text = soup.body.get_text(separator=\"\\n\", strip=True)\n",
    "        print(\"Data Extraction from Website completed\")"
   ]
  },
  {
   "cell_type": "code",
   "execution_count": 4,
   "id": "8321b8c8-b436-48a2-87c0-08dd79343b12",
   "metadata": {},
   "outputs": [],
   "source": [
    "system_prompt = \"You are an assistant that analyzes the contents of a website \\\n",
    "and provides a short summary, ignoring text that might be navigation related. \\\n",
    "Respond in markdown.\"\n",
    "\n",
    "# A function that writes a User Prompt that asks for summaries of websites:\n",
    "\n",
    "def user_prompt_for(website):\n",
    "    user_prompt = f\"You are looking at a website titled {website.title}\"\n",
    "    user_prompt += \"\\nThe contents of this website is as follows; \\\n",
    "please provide a short summary of this website in markdown. \\\n",
    "If it includes news or announcements, then summarize these too.\\n\\n\"\n",
    "    user_prompt += website.text\n",
    "    return user_prompt"
   ]
  },
  {
   "cell_type": "code",
   "execution_count": 5,
   "id": "75a880f8-5dc3-4337-a576-2847a49880df",
   "metadata": {},
   "outputs": [],
   "source": [
    "def messages_for(website):\n",
    "    return [\n",
    "        {\"role\": \"system\", \"content\": system_prompt},\n",
    "        {\"role\": \"user\", \"content\": user_prompt_for(website)}\n",
    "    ]"
   ]
  },
  {
   "cell_type": "code",
   "execution_count": 6,
   "id": "a82c6e60-4465-4ed3-b6bf-0e5ce73dd1e0",
   "metadata": {},
   "outputs": [],
   "source": [
    "def summarize(url):\n",
    "    website = Website(url)\n",
    "    print(website.title)\n",
    "    payload = {\n",
    "        \"model\": MODEL,\n",
    "        \"messages\": messages_for(website),\n",
    "        \"stream\": False\n",
    "    }\n",
    "    response = requests.post(OLLAMA_API, json=payload, headers=HEADERS)\n",
    "    return response.json()['message']['content']"
   ]
  },
  {
   "cell_type": "code",
   "execution_count": 7,
   "id": "a3a31db2-e375-4c0c-8c22-a14ee41422ee",
   "metadata": {},
   "outputs": [],
   "source": [
    "# A function to display this nicely in the Jupyter output, using markdown\n",
    "\n",
    "def display_summary(url):\n",
    "    summary = summarize(url)\n",
    "    display(Markdown(summary))"
   ]
  },
  {
   "cell_type": "code",
   "execution_count": null,
   "id": "5d7a82df-d2d7-411c-856b-fd02a7092385",
   "metadata": {},
   "outputs": [
    {
     "name": "stdout",
     "output_type": "stream",
     "text": [
      "Initiazling Data Extraction from Website\n",
      "Data Extraction from Website completed\n",
      "Play Free Online Games: Crossword, Sudoku, Math Puzzles & More | Hindustan Times | Hindustan Times\n"
     ]
    }
   ],
   "source": [
    "display_summary(\"https://www.hindustantimes.com/games\")"
   ]
  },
  {
   "cell_type": "code",
   "execution_count": null,
   "id": "b01306f2-2c30-45ae-b10d-476b3c29741d",
   "metadata": {},
   "outputs": [],
   "source": []
  }
 ],
 "metadata": {
  "kernelspec": {
   "display_name": "Python 3 (ipykernel)",
   "language": "python",
   "name": "python3"
  },
  "language_info": {
   "codemirror_mode": {
    "name": "ipython",
    "version": 3
   },
   "file_extension": ".py",
   "mimetype": "text/x-python",
   "name": "python",
   "nbconvert_exporter": "python",
   "pygments_lexer": "ipython3",
   "version": "3.12.5"
  }
 },
 "nbformat": 4,
 "nbformat_minor": 5
}
