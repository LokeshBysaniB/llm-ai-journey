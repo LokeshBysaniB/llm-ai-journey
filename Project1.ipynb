{
 "cells": [
  {
   "cell_type": "markdown",
   "id": "06ccbac8-77b9-4024-9b37-9e1dca7c6810",
   "metadata": {},
   "source": [
    "# Summarize the Information extracted from a webpage using openAI API"
   ]
  },
  {
   "cell_type": "code",
   "execution_count": 2,
   "id": "6cda2adb-b38e-4f29-9ad1-3ee5befe84bd",
   "metadata": {},
   "outputs": [],
   "source": [
    "import os\n",
    "import requests\n",
    "from dotenv import load_dotenv\n",
    "from bs4 import BeautifulSoup\n",
    "from IPython.display import Markdown, display\n",
    "from openai import OpenAI"
   ]
  },
  {
   "cell_type": "code",
   "execution_count": 3,
   "id": "94869894-ac10-44a2-959b-28190bd353f3",
   "metadata": {},
   "outputs": [
    {
     "name": "stdout",
     "output_type": "stream",
     "text": [
      "API key found and looks good so far!\n"
     ]
    }
   ],
   "source": [
    "load_dotenv(override=True)\n",
    "api_key = os.getenv('OPENAI_API_KEY')\n",
    "if not api_key:\n",
    "    print(\"No API key was found - please head over to the troubleshooting notebook in this folder to identify & fix!\")\n",
    "elif not api_key.startswith(\"sk-proj-\"):\n",
    "    print(\"An API key was found, but it doesn't start sk-proj-; please check you're using the right key - see troubleshooting notebook\")\n",
    "elif api_key.strip() != api_key:\n",
    "    print(\"An API key was found, but it looks like it might have space or tab characters at the start or end - please remove them - see troubleshooting notebook\")\n",
    "else:\n",
    "    print(\"API key found and looks good so far!\")"
   ]
  },
  {
   "cell_type": "code",
   "execution_count": 12,
   "id": "f5edf8b0-f884-4fbc-982d-8d9fdb4be71f",
   "metadata": {},
   "outputs": [],
   "source": [
    "# A class to represent a Webpage\n",
    "# If you're not familiar with Classes, check out the \"Intermediate Python\" notebook\n",
    "\n",
    "# Some websites need you to use proper headers when fetching them:\n",
    "headers = {\n",
    " \"User-Agent\": \"Mozilla/5.0 (Windows NT 10.0; Win64; x64) AppleWebKit/537.36 (KHTML, like Gecko) Chrome/117.0.0.0 Safari/537.36\"\n",
    "}\n",
    "\n",
    "class Website:\n",
    "\n",
    "    def __init__(self, url):\n",
    "        \"\"\"\n",
    "        Create this Website object from the given url using the BeautifulSoup library\n",
    "        \"\"\"\n",
    "        print(\"Initiazling Data Extraction from Website\")\n",
    "        self.url = url\n",
    "        response = requests.get(url, headers=headers)\n",
    "        soup = BeautifulSoup(response.content, 'html.parser')\n",
    "        self.title = soup.title.string if soup.title else \"No title found\"\n",
    "        for irrelevant in soup.body([\"script\", \"style\", \"img\", \"input\"]):\n",
    "            irrelevant.decompose()\n",
    "        self.text = soup.body.get_text(separator=\"\\n\", strip=True)\n",
    "        print(\"Data Extraction from Website completed\")"
   ]
  },
  {
   "cell_type": "code",
   "execution_count": 5,
   "id": "af03350c-0d8c-4887-9149-6dc42c16a017",
   "metadata": {},
   "outputs": [],
   "source": [
    "openai = OpenAI()"
   ]
  },
  {
   "cell_type": "markdown",
   "id": "edd347fc-07e1-4198-b359-523262be97e1",
   "metadata": {},
   "source": [
    "LLM Models expects  two types of Messages\n",
    "1. System prompt : that tells them what task they are performing and what tone they should use\n",
    "2. User Prompt : Usually the conversation starter"
   ]
  },
  {
   "cell_type": "code",
   "execution_count": 6,
   "id": "cbd455dc-1653-49dd-ab8e-54d58194161f",
   "metadata": {},
   "outputs": [],
   "source": [
    "system_prompt = \"You are an assistant that analyzes the contents of a website \\\n",
    "and provides a short summary, ignoring text that might be navigation related. \\\n",
    "Respond in markdown.\""
   ]
  },
  {
   "cell_type": "code",
   "execution_count": 7,
   "id": "bdce6aab-6102-43f0-9035-2e5cde8a51be",
   "metadata": {},
   "outputs": [],
   "source": [
    "# A function that writes a User Prompt that asks for summaries of websites:\n",
    "\n",
    "def user_prompt_for(website):\n",
    "    user_prompt = f\"You are looking at a website titled {website.title}\"\n",
    "    user_prompt += \"\\nThe contents of this website is as follows; \\\n",
    "please provide a short summary of this website in markdown. \\\n",
    "If it includes news or announcements, then summarize these too.\\n\\n\"\n",
    "    user_prompt += website.text\n",
    "    return user_prompt"
   ]
  },
  {
   "cell_type": "markdown",
   "id": "f66b12a5-fd04-4cf4-8910-149aa48f8efa",
   "metadata": {},
   "source": [
    "#### Messages"
   ]
  },
  {
   "cell_type": "markdown",
   "id": "ad93ac96-80cc-4085-b67d-6da077153950",
   "metadata": {},
   "source": [
    "Prompts send to API in a specific object called Messages and Open AI API has a specific format on how they expects this messages.\n",
    "\n",
    "This is a python list of multiple dictionary objects and each object has a two keys and values for the prompt type and coressponding value we are sending."
   ]
  },
  {
   "cell_type": "markdown",
   "id": "a76e37b3-c1d5-42da-b412-0becb15186c4",
   "metadata": {},
   "source": [
    "### Wrapping all the functions"
   ]
  },
  {
   "cell_type": "code",
   "execution_count": 8,
   "id": "646d8fe6-fb6f-4e27-9e58-e887537daec5",
   "metadata": {},
   "outputs": [],
   "source": [
    "def messages_for(website):\n",
    "    return [\n",
    "        {\"role\": \"system\", \"content\": system_prompt},\n",
    "        {\"role\": \"user\", \"content\": user_prompt_for(website)}\n",
    "    ]"
   ]
  },
  {
   "cell_type": "code",
   "execution_count": 9,
   "id": "21e66e4b-8da9-4214-8559-a90c4235ccdd",
   "metadata": {},
   "outputs": [],
   "source": [
    "# And now: call the OpenAI API. You will get very familiar with this!\n",
    "\n",
    "def summarize(url):\n",
    "    website = Website(url)\n",
    "    response = openai.chat.completions.create(\n",
    "        model = \"gpt-4o-mini\",\n",
    "        messages = messages_for(website)\n",
    "    )\n",
    "    return response.choices[0].message.content"
   ]
  },
  {
   "cell_type": "code",
   "execution_count": 10,
   "id": "f02293de-d51b-4fdd-8385-0060e5dc8194",
   "metadata": {},
   "outputs": [],
   "source": [
    "# A function to display this nicely in the Jupyter output, using markdown\n",
    "\n",
    "def display_summary(url):\n",
    "    summary = summarize(url)\n",
    "    display(Markdown(summary))"
   ]
  },
  {
   "cell_type": "code",
   "execution_count": 11,
   "id": "8a590a6d-c156-4fda-b07f-0ba79211f08c",
   "metadata": {
    "scrolled": true
   },
   "outputs": [
    {
     "data": {
      "text/markdown": [
       "# Summary of the Website\n",
       "\n",
       "The website \"Play Free Online Games: Crossword, Sudoku, Math Puzzles & More | Hindustan Times\" offers a variety of online games including daily puzzles, crosswords, sudoku, word games, and brain teasers. Players can engage in several types of games such as:\n",
       "\n",
       "- **Daily puzzles**: Including cryptic crosswords and mini crosswords.\n",
       "- **Word games**: Such as Word Flower and Word Row.\n",
       "- **Math/logic challenges**: Known as superbrain teasers.\n",
       "  \n",
       "Additionally, the site features weekend specials like the Einstein puzzle and movie-themed crosswords.\n",
       "\n",
       "## Latest News Highlights\n",
       "- **Ahmedabad Plane Crash**: Ongoing live updates and reactions from various authorities regarding the incident.\n",
       "- **Israel-Iran Tensions**: Reports on military actions between the two nations.\n",
       "- **NEET UG 2025 Result**: Live updates on examination results for prospective students.\n",
       "  \n",
       "The platform also serves to keep its audience informed through news segments across various domains including sports, entertainment, and education. Overall, it presents a blend of entertainment through games alongside timely news updates."
      ],
      "text/plain": [
       "<IPython.core.display.Markdown object>"
      ]
     },
     "metadata": {},
     "output_type": "display_data"
    }
   ],
   "source": [
    "display_summary(\"https://www.hindustantimes.com/games\")"
   ]
  },
  {
   "cell_type": "code",
   "execution_count": null,
   "id": "94336548-e810-431f-bd78-3c0f6e9fbfcd",
   "metadata": {},
   "outputs": [],
   "source": []
  }
 ],
 "metadata": {
  "kernelspec": {
   "display_name": "Python 3 (ipykernel)",
   "language": "python",
   "name": "python3"
  },
  "language_info": {
   "codemirror_mode": {
    "name": "ipython",
    "version": 3
   },
   "file_extension": ".py",
   "mimetype": "text/x-python",
   "name": "python",
   "nbconvert_exporter": "python",
   "pygments_lexer": "ipython3",
   "version": "3.12.5"
  }
 },
 "nbformat": 4,
 "nbformat_minor": 5
}
